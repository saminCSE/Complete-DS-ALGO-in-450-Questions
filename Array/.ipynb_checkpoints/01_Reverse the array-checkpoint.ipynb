{
 "cells": [
  {
   "cell_type": "markdown",
   "id": "blank-editing",
   "metadata": {},
   "source": [
    "[Reverse The Array](https://www.geeksforgeeks.org/write-a-program-to-reverse-an-array-or-string/)"
   ]
  },
  {
   "cell_type": "code",
   "execution_count": 11,
   "id": "decimal-notification",
   "metadata": {},
   "outputs": [
    {
     "name": "stdout",
     "output_type": "stream",
     "text": [
      "Enter the size of list : 6\n",
      "\n",
      "\n",
      "Enter the list numbers separated by space: 1 2 3 4 5 6\n",
      "User List:  [1.0, 2.0, 3.0, 4.0, 5.0, 6.0]\n"
     ]
    }
   ],
   "source": [
    "n = int(input(\"Enter the size of list : \"))\n",
    "print(\"\\n\")\n",
    "numList = list(map(float, input(\"Enter the list numbers separated by space: \").strip().split()))[:n]\n",
    "print(\"User List: \", numList)"
   ]
  },
  {
   "cell_type": "code",
   "execution_count": 12,
   "id": "neither-planning",
   "metadata": {},
   "outputs": [
    {
     "name": "stdout",
     "output_type": "stream",
     "text": [
      "Reversed list is:\n",
      "[6.0, 5.0, 4.0, 3.0, 2.0, 1.0]\n"
     ]
    }
   ],
   "source": [
    "def reverseList(A):\n",
    "    print(A[::-1])\n",
    "    \n",
    "print(\"Reversed list is:\")\n",
    "reverseList(numList)"
   ]
  }
 ],
 "metadata": {
  "kernelspec": {
   "display_name": "Python 3",
   "language": "python",
   "name": "python3"
  },
  "language_info": {
   "codemirror_mode": {
    "name": "ipython",
    "version": 3
   },
   "file_extension": ".py",
   "mimetype": "text/x-python",
   "name": "python",
   "nbconvert_exporter": "python",
   "pygments_lexer": "ipython3",
   "version": "3.7.9"
  }
 },
 "nbformat": 4,
 "nbformat_minor": 5
}
